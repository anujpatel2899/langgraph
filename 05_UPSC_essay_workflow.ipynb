{
 "cells": [
  {
   "cell_type": "code",
   "execution_count": 11,
   "id": "f22a3449",
   "metadata": {},
   "outputs": [],
   "source": [
    "from langgraph.graph import StateGraph,START,END\n",
    "from typing import List, Dict,TypedDict,Annotated\n",
    "from langchain_openai import ChatOpenAI\n",
    "from dotenv import load_dotenv\n",
    "from pydantic import BaseModel, Field\n",
    "import operator"
   ]
  },
  {
   "cell_type": "code",
   "execution_count": 2,
   "id": "52a462c3",
   "metadata": {},
   "outputs": [
    {
     "data": {
      "text/plain": [
       "True"
      ]
     },
     "execution_count": 2,
     "metadata": {},
     "output_type": "execute_result"
    }
   ],
   "source": [
    "load_dotenv()"
   ]
  },
  {
   "cell_type": "code",
   "execution_count": 3,
   "id": "c2ea1e71",
   "metadata": {},
   "outputs": [],
   "source": [
    "model = ChatOpenAI(model='gpt-4o-mini')"
   ]
  },
  {
   "cell_type": "code",
   "execution_count": 4,
   "id": "3397e0cc",
   "metadata": {},
   "outputs": [],
   "source": [
    "class EvaluationSchema(BaseModel):\n",
    "    feedback: str = Field(description=\"Detailed feedback for the essay\")\n",
    "    score:int = Field(description=\"Score out of 10 for the essay\",ge=0,le=10)"
   ]
  },
  {
   "cell_type": "code",
   "execution_count": 5,
   "id": "8ae912a1",
   "metadata": {},
   "outputs": [],
   "source": [
    "structured_model = model.with_structured_output(EvaluationSchema)"
   ]
  },
  {
   "cell_type": "code",
   "execution_count": 7,
   "id": "23bd404a",
   "metadata": {},
   "outputs": [],
   "source": [
    "essay = \"\"\"The Impact of Education on Socio-Economic Mobility\n",
    "\n",
    "While education is widely perceived as a critical lever for socio-economic mobility, its ability to transform lives is deeply shaped by the structural inequalities within which it functions. Socio-economic mobility, the movement of individuals or groups up or down the socio-economic hierarchy, often measured through changes in income, education, occupation, and social status, has long been associated with access to formal education. In India, this belief is enshrined in the constitutional values of equality of opportunity and social justice, which envision education as a means to dismantle historical hierarchies of caste, class, and gender. However, despite decades of expansion in educational infrastructure and policy reforms, the promise of upward mobility remains unequally distributed. \n",
    "\n",
    "Caste-based discrimination, regional disparities, and unequal access to quality schooling continue to shape who benefits from education and who does not. Moreover, the market-oriented framing of education often prioritizes credentials over actual empowerment, sidelining the needs and aspirations of marginalized communities. Drawing on Amartya Sen’s capability approach, which shifts the focus from formal access to real freedoms and choices, this essay argues that education contributes to socio-economic mobility only when it expands individuals’ substantive capabilities, especially for the marginalized, to lead lives they value and choose. Therefore, while education may correlate with better life outcomes, it cannot serve as a reliable engine of mobility unless embedded within a broader framework of distributive justice and systemic reform.\n",
    "\n",
    "Education is widely seen as a gateway to better jobs and socio-economic mobility, but in India, this link is increasingly strained. For example, According to the PLFS 2017–18, unemployment among graduates was 17.2%, compared to just 1.7% for those with only primary education, highlighting the growing disconnect between educational attainment and employment. This paradox stems from skill mismatch, where formal education fails to align with industry needs. Curricula often lack practical, job-oriented skills, leaving many graduates underemployed, working in roles that don’t match their qualifications, or facing credential inflation, where degrees lose value due to oversupply.\n",
    "\n",
    "Education is often seen as a tool to break intergenerational poverty, with a child's success potentially transforming the entire family's future. However, in India, this promise is increasingly uneven. Many graduates remain unemployed, while those with primary education face significantly lower unemployment rates, highlighting skill mismatches and credential inflation. In rural Bihar or Dalit households, even a degree often fails to secure dignified employment due to poor-quality education and lack of networks. Women face additional barriers, with cultural expectations often limiting their mobility. Programs like the NSQF and NEP 2020 aim to integrate vocational skills, but their implementation remains slow. Without systemic reform, education alone cannot break the cycle of poverty; it risks perpetuating inequality from one generation to the next.\n",
    "\n",
    "In India, programs like the Mid-Day Meal Scheme have increased enrolment by 12%, especially among girls and marginalized groups, contributing to human capital formation and developing a skilled, healthy population for future economic growth. The Bolsa Família program in Brazil uses conditional cash transfers to encourage school attendance and health checkups, improving long-term educational and health outcomes for poor families.\n",
    "\n",
    "However, these schemes face key limitations. While more children attend school, many receive low-quality education due to under-resourced classrooms, lack of trained teachers, and poor infrastructure. This leads to schooling without learning, weakening the transformative potential of education. Without strengthening the quality of instruction and addressing systemic barriers, such programs may improve access but fall short of delivering real socio-economic mobility.\n",
    "\n",
    "In India, stark educational disparities persist between urban private schools and rural government schools. According to ASER, only 20% of Grade 3 students in government schools can read a Grade 2 text, compared to nearly 40% in private schools. This gap stems not just from poor infrastructure, but deeper issues like teacher absenteeism, multi-grade teaching, and outdated pedagogy.\n",
    "\n",
    "Government initiatives like Kasturba Gandhi Balika Vidyalayas (KGBVs), which serve over 3.5 lakh girls, aim to bridge these gaps by offering free residential education to marginalized girls. Similarly, reservation policies have expanded access to higher education for SCs, STs, and OBCs. However, critics argue these policies often ensure entry without adequate support, leaving students to struggle in elite institutions lacking academic and social inclusion. Global efforts, from South Africa’s NSFAS to Europe’s subsidized education systems, demonstrate that real equity requires more than access: it demands sustained investment in quality and support. When education is truly inclusive and empowering, it uplifts not just individuals, but entire communities.\n",
    "\n",
    "Educating girls is one of the most powerful drivers of social transformation, with proven ripple effects across generations. According to NFHS-5 (2019–21), Indian women with 12 or more years of schooling have a Total Fertility Rate (TFR) of 1.8, compared to 2.8 for women with no schooling. This stark difference underscores the multiplier effect of girls' education: it leads to delayed marriage, fewer and healthier children, higher maternal survival, increased earnings, and stronger support for children's education and health. It also increases participation in household decision-making and resists gender-based discrimination. Invisible barriers like safety concerns during travel, patriarchal norms, early caregiving responsibilities, and menstrual hygiene issues often hinder retention and long-term empowerment.\n",
    "\n",
    "Advancing Sustainable Development Goal 5 (Gender Equality) demands more than infrastructure; it requires safe, inclusive schools, gender-sensitive teaching, and community engagement that challenges traditional roles. When girls complete their education, the benefits multiply: not just for them, but for their families, communities, and the nation’s development. As we think about how education can support growth, we also need to look at the kind of education people receive and whether it really prepares them for the real world.\n",
    "\n",
    "For many young people, higher education is seen as the path to success. In India, colleges like IITs and IIMs are known for producing top professionals. Students who graduate from these institutes often get well-paying jobs, sometimes even abroad. But not everyone makes it to these institutions. That’s where vocational training and skill-building programs step in. Government initiatives like Skill India or Pradhan Mantri Kaushal Vikas Yojana aim to teach practical skills, like plumbing, electronics, or digital literacy so that young people can find jobs even if they don’t attend university.\n",
    "\n",
    "In Germany, the vocational education system is globally respected for effectively linking learning with employment. Its dual system combines classroom study with paid industry apprenticeships, producing qualifications that are directly recognized by employers. This success relies on close coordination between schools, industry, and government, ensuring that training is relevant, respected, and leads to real job opportunities.\n",
    "\n",
    "Contrasting India’s vocational ecosystem, programs under Skill India have faced criticism for limited industry participation, inconsistent quality, and a mismatch between training and actual job market demands. The National Skill Qualification Framework (NSQF), intended to standardize qualifications and link them to outcomes, remains poorly implemented, especially in rural and informal sectors.\n",
    "\n",
    "The National Education Policy (NEP) 2020 aims to correct this by integrating vocational training from Grade 6 onward, promoting the dignity of labor, and encouraging hands-on learning across disciplines. However, for this vision to succeed, India must strengthen industry linkages, ensure quality assurance mechanisms, and address deep-rooted social biases against vocational paths.\n",
    "\n",
    "India’s shift to digital learning has exposed a stark digital divide, a new form of inequality. The digital divide refers to the growing gap between those who have access to digital technologies, and the skills to use them, and those who do not. As per NFHS-5, only 37% of rural households had internet access (vs. 67% urban), and under 20% of rural women used the internet regularly. During Covid-19, just 28% of rural children accessed online learning, according to ASER 2021.\n",
    "\n",
    "Initiatives like PM e-Vidya and DIKSHA offered free online content, but poor connectivity, lack of devices, low digital literacy, and uneven content quality limited their impact, especially for marginalized students. Digital learning has potential, but without addressing these structural barriers, it may worsen rather than reduce educational inequality.\n",
    "\n",
    "In India, educated unemployment remains a significant issue, characterized by a mismatch between qualifications and the needs of the labor market. This problem is compounded by factors such as slow job creation and the concentration of employment opportunities in urban areas. Additionally, individuals from marginalized communities face barriers like caste, class, and gender discrimination, which restrict their access to formal employment. A lack of social capital, networks, and mentorship further hampers their chances of success in securing jobs. To tackle this challenge, education must be complemented with policies like labor reforms, stronger anti-discrimination measures, affirmative action beyond academic institutions, and support for entrepreneurship among underrepresented groups. Achieving true mobility requires not just access to education, but also to fair and inclusive employment opportunities.\n",
    "\n",
    "Investing in inclusive education drives real social and economic change. A 1% rise in education spending can raise GDP by 0.3%, showing clear economic returns. Kerala’s success, high literacy, and health despite modest income are rooted in public investment and social reform movements that demanded access for all. Countries like Finland and South Korea focus on well-being, equity, and lifelong learning, contrasting with India’s exam-driven system.\n",
    "\n",
    "Inclusive systems need more than classrooms; they require trained teachers, fair funding, and curricula that reflect all identities. In places where this exists, education boosts mobility, narrows inequality, and strengthens democracy. Without it, opportunity stays limited to the privileged few.\n",
    "\n",
    "Education holds transformative potential, but only when embedded in a broader system that supports equity, inclusion, and opportunity. While it can open doors, build confidence, and expand life choices, education alone cannot overcome structural unemployment, social discrimination, or economic exclusion. To fulfill its promise, it must be delivered through fair, inclusive systems with equitable funding, trained teachers, supportive infrastructure, and a curriculum that respects and reflects all communities. It must also be matched by complementary policies like labor reforms, anti-discrimination enforcement, affirmative action, and entrepreneurship support, to ensure learning leads to meaningful opportunity.\n",
    "\n",
    "Looking ahead, India must align its educational vision with the spirit of Article 21A of the Constitution, which guarantees the right to education. True progress means building not just access to schools, but a society where mobility is real, opportunity is equal, and dignity is universal, a society where everyone has a fair chance to rise.\"\"\""
   ]
  },
  {
   "cell_type": "code",
   "execution_count": 9,
   "id": "f7c69932",
   "metadata": {},
   "outputs": [
    {
     "name": "stdout",
     "output_type": "stream",
     "text": [
      "feedback=\"The essay presents a well-structured and comprehensive analysis of the impact of education on socio-economic mobility in India, supported by relevant examples and data. The arguments are logically organized, moving from the foundational theories and constitutional values to practical observations and examples. The use of scholarly references, such as Amartya Sen's capability approach, adds depth to the discussion. The writing style is formal and academic, which is appropriate for the topic. However, there are areas that could be improved: \\n\\n1. **Clarity and Conciseness**: Some sentences are quite lengthy and complex, which might obscure the main points. For instance, simplifying some sentences would improve readability. \\n2. **Transition and Flow**: While the essay covers various facets of the topic, the transitions between sections can be abrupt. More connective phrases and transitional sentences would enhance the flow of ideas. \\n3. **Repetition**: Certain concepts, such as the issues of caste and employment, are mentioned multiple times in similar contexts. This could be condensed to avoid redundancy. \\n4. **Examples and Data**: While the essay makes good use of data, it could benefit from more diverse examples from different regions or comparisons with more countries for a broader perspective. Additionally, some statistical data could be contextualized more clearly to demonstrate its significance. \\n5. **Conclusion**: The conclusion effectively summarizes the arguments but could reflect more on possible future directions or recommendations based on the analysis presented.\\n\\nOverall, the essay successfully highlights the complexities of the relationship between education and socio-economic mobility in India, addressing the structural challenges and providing a critical view of existing educational policies and programs.\" score=8\n"
     ]
    }
   ],
   "source": [
    "prompt = f\"Evaluate the language quality of the following and provide detailed feedback and assign a score out of 10:\\n{essay}\"\n",
    "print(structured_model.invoke(prompt))"
   ]
  },
  {
   "cell_type": "code",
   "execution_count": 14,
   "id": "45307725",
   "metadata": {},
   "outputs": [],
   "source": [
    "class UPSCState(TypedDict):\n",
    "    essay: str\n",
    "    language_feedback: str\n",
    "    analysis_feedback: str\n",
    "    clarity_feedback: str\n",
    "    overall_feedback: str\n",
    "    # Overwrite na ho jaie if use reducer function add\n",
    "    individual_scores: Annotated[list[int],operator.add]\n",
    "    avg_score: float"
   ]
  },
  {
   "cell_type": "code",
   "execution_count": 16,
   "id": "c0065556",
   "metadata": {},
   "outputs": [],
   "source": [
    "def evaluate_language(state: UPSCState) -> UPSCState:\n",
    "    prompt = f\"Evaluate the language quality of the following essay and provide detailed feedback and assign a score out of 10:\\n{state['essay']}\"\n",
    "    response = structured_model.invoke(prompt)\n",
    "    return {\"language_feedback\": response.feedback,\n",
    "            \"individual_scores\": [response.score]}"
   ]
  },
  {
   "cell_type": "code",
   "execution_count": 17,
   "id": "52f61e19",
   "metadata": {},
   "outputs": [],
   "source": [
    "def evaluate_analysis(state: UPSCState) -> UPSCState:\n",
    "    prompt = f\"Evaluate the analytical depth of the following essay and provide detailed feedback and assign a score out of 10:\\n{state['essay']}\"\n",
    "    response = structured_model.invoke(prompt)\n",
    "    return {\"analysis_feedback\": response.feedback,\n",
    "            \"individual_scores\": [response.score]}"
   ]
  },
  {
   "cell_type": "code",
   "execution_count": 18,
   "id": "40419b10",
   "metadata": {},
   "outputs": [],
   "source": [
    "def evaluate_clarity(state: UPSCState) -> UPSCState:\n",
    "    prompt = f\"Evaluate the clarity of the following essay and provide detailed feedback and assign a score out of 10:\\n{state['essay']}\"\n",
    "    response = structured_model.invoke(prompt)\n",
    "    return {\"clarity_feedback\": response.feedback,\n",
    "            \"individual_scores\": [response.score]}"
   ]
  },
  {
   "cell_type": "code",
   "execution_count": 34,
   "id": "faa8b55d",
   "metadata": {},
   "outputs": [],
   "source": [
    "def final_feedback(state: UPSCState) -> UPSCState:\n",
    "    # Combine all feedback and calculate average score\n",
    "    prompt = f\"\"\"Based on the following feedback create a summarized feedback: \\n\n",
    "    Language Feedback: {state[\"language_feedback\"]} \\n\n",
    "    Analysis Feedback: {state[\"analysis_feedback\"]} \\n\n",
    "    Clarity Feedback: {state[\"clarity_feedback\"]}\n",
    "    \"\"\"\n",
    "\n",
    "\n",
    "    overall_feedback =  model.invoke(prompt).content\n",
    "    avg_score = sum(state['individual_scores']) / len(state['individual_scores'])\n",
    "\n",
    "    return {\n",
    "        \"overall_feedback\": overall_feedback,\n",
    "        \"avg_score\": avg_score\n",
    "    }\n"
   ]
  },
  {
   "cell_type": "code",
   "execution_count": 35,
   "id": "1532bbfb",
   "metadata": {},
   "outputs": [],
   "source": [
    "graph = StateGraph(UPSCState)\n",
    "\n",
    "graph.add_node(\"evaluate_language\", evaluate_language)\n",
    "graph.add_node(\"evaluate_analysis\", evaluate_analysis)\n",
    "graph.add_node(\"evaluate_clarity\", evaluate_clarity)\n",
    "graph.add_node(\"final_feedback\", final_feedback)\n",
    "\n",
    "# edges\n",
    "\n",
    "graph.add_edge(START, \"evaluate_language\")\n",
    "graph.add_edge(START, \"evaluate_analysis\")\n",
    "graph.add_edge(START, \"evaluate_clarity\")\n",
    "\n",
    "graph.add_edge(\"evaluate_language\", \"final_feedback\")\n",
    "graph.add_edge(\"evaluate_analysis\", \"final_feedback\")\n",
    "graph.add_edge(\"evaluate_clarity\", \"final_feedback\")\n",
    "\n",
    "graph.add_edge(\"final_feedback\", END)\n",
    "\n",
    "# compile the graph\n",
    "workflow = graph.compile()"
   ]
  },
  {
   "cell_type": "code",
   "execution_count": 36,
   "id": "4ee39683",
   "metadata": {},
   "outputs": [
    {
     "data": {
      "image/png": "[encoded data removed]",
      "text/plain": [
       "<IPython.core.display.Image object>"
      ]
     },
     "execution_count": 36,
     "metadata": {},
     "output_type": "execute_result"
    }
   ],
   "source": [
    "from IPython.display import Image\n",
    "Image(workflow.get_graph().draw_mermaid_png())"
   ]
  },
  {
   "cell_type": "code",
   "execution_count": 37,
   "id": "304f81ee",
   "metadata": {},
   "outputs": [],
   "source": [
    "essay2 = \"\"\"\n",
    "Topic: Climate Change\n",
    "\n",
    "Climate change is changing the climate. It is very dangerous and bad for humans and animals. Many people are not knowing what to do about it. The temperature is going up and up. Ice is melting and that is not good. Trees are important because they give oxygen and if we cut trees then it is bad. Factories make smoke and smoke goes in air. This is called pollution which is also bad.\n",
    "\n",
    "Government should do things. People should also do things. If we all do good things then climate change will stop. This is very important topic and we should take it seriously\n",
    "\"\"\""
   ]
  },
  {
   "cell_type": "code",
   "execution_count": 38,
   "id": "e0342957",
   "metadata": {},
   "outputs": [
    {
     "data": {
      "text/plain": [
       "{'essay': '\\nTopic: Climate Change\\n\\nClimate change is changing the climate. It is very dangerous and bad for humans and animals. Many people are not knowing what to do about it. The temperature is going up and up. Ice is melting and that is not good. Trees are important because they give oxygen and if we cut trees then it is bad. Factories make smoke and smoke goes in air. This is called pollution which is also bad.\\n\\nGovernment should do things. People should also do things. If we all do good things then climate change will stop. This is very important topic and we should take it seriously\\n',\n",
       " 'language_feedback': '1. **Clarity and Coherence**: The essay presents a clear central topic – climate change – but lacks depth and coherence. There are many assertions made, but they are not well supported by facts or examples. For instance, the statement \"Many people are not knowing what to do about it\" could be expanded with examples of common misconceptions or inaction regarding climate change.\\n\\n2. **Language and Style**: The language used is simplistic and lacks variety. Terms like \"very dangerous\", \"bad\", and repetitive phrases such as \"is not good\" can be replaced with more precise vocabulary to convey the message effectively. For example, instead of saying \"climate change is changing the climate\", one could say \"climate change is altering environmental conditions globally.\" This would enhance the professionalism of the writing.\\n\\n3. **Structure**: The essay lacks a clear introduction and conclusion. An effective essay on climate change should start with a statement that establishes the importance of the issue and end with a concluding remark that summarizes the points made or calls to action more definitively.\\n\\n4. **Argument and Development**: While the essay touches on several important points such as pollution, deforestation, and the role of government and individuals, these ideas need further development. For instance, discussing sustainable practices, renewable energy, and the significance of policies would strengthen the argument significantly.\\n\\n5. **Grammar and Syntax**: There are several grammatical inaccuracies, such as \"are not knowing\" (should be \"do not know\") and awkward phrases like \"this is very important topic\" (should be \"this is a very important topic\"). These phrases detract from the overall quality of the writing.\\n\\nOverall, while the essay identifies an important issue and encourages action, it needs substantial improvement in language quality, depth of argument, and organization. The ideas themselves are poignant but are currently expressed in a manner that lacks sophistication and clarity. \\n\\n**Score**: 4 out of 10 - The essay fulfills a basic description of climate change but lacks depth, coherence, and sophistication that is necessary for a higher score.',\n",
       " 'analysis_feedback': 'The essay provides a basic overview of climate change and its effects, touching on important issues such as rising temperatures, melting ice, deforestation, and pollution from factories. However, it lacks depth in analysis and fails to discuss the underlying causes of climate change or offer specific examples and statistics to support claims. The essay does not explore the complexities of the issue or propose detailed solutions. Furthermore, the language is simplistic with frequent grammatical errors and lacks coherence in structure. To improve, the essay should present a clearer thesis statement, utilize more sophisticated vocabulary, and delve deeper into the causes, consequences, and potential solutions related to climate change.',\n",
       " 'clarity_feedback': \"The essay presents a basic overview of climate change but suffers from a lack of clarity and depth. The opening sentence is somewhat redundant, as you repeat the phrase 'changing the climate' which is overly simplistic. The statements are vague and could benefit greatly from more specific examples or data to strengthen the claims. For instance, it would be more effective to mention specific repercussions of climate change rather than stating it is 'very dangerous.' Additionally, the phrases 'Many people are not knowing what to do about it' and 'this is also bad' lack precision and make it unclear what specific actions are being referenced. The sentences could be more varied in structure and form, as many are short and choppy. You briefly touch on important actions that should be taken by the government and individuals, but these points are not elaborated upon or backed by evidence. A conclusion that reinforces the importance of addressing climate change could enhance the essay's impact. Overall, while the essay communicates concern about climate change, it needs more specificity, organization, and depth to be effective.\",\n",
       " 'overall_feedback': '### Summarized Feedback\\n\\n**Strengths:**\\n- The essay addresses a vital topic: climate change.\\n- It touches on important issues such as rising temperatures, deforestation, and pollution.\\n\\n**Areas for Improvement:**\\n\\n1. **Clarity and Coherence:** The essay lacks depth and coherence; assertions are made without sufficient facts or examples. For instance, common misconceptions about climate change could be elaborated instead of stated vaguely.\\n\\n2. **Language and Style:** The vocabulary is simplistic and repetitive. More precise terms should replace vague descriptors like \"very dangerous.\" Improved language sophistication can enhance the essay’s professionalism.\\n\\n3. **Structure:** There is no clear introduction or conclusion. A strong essay should start with a compelling statement about the importance of climate change and conclude with a summary or call to action.\\n\\n4. **Argument Development:** While key points are mentioned, such as pollution and deforestation, these ideas need further elaboration. Discussing sustainable practices and policies would strengthen the argument.\\n\\n5. **Grammar and Syntax:** Numerous grammatical errors and awkward phrases detract from the writing quality. Addressing these issues would improve overall clarity.\\n\\n**Overall Assessment:** The essay meets basic expectations but falls short in depth, coherence, and sophistication. More detailed analysis, structured organization, and enhanced language quality are essential for a higher score. \\n\\n**Score:** 4 out of 10 - The essay identifies an important issue but requires substantial improvements to meet higher academic standards.',\n",
       " 'individual_scores': [3, 4, 4],\n",
       " 'avg_score': 3.6666666666666665}"
      ]
     },
     "execution_count": 38,
     "metadata": {},
     "output_type": "execute_result"
    }
   ],
   "source": [
    "initial_state = {\n",
    "    \"essay\": essay2\n",
    "}\n",
    "\n",
    "workflow.invoke(initial_state)"
   ]
  },
  {
   "cell_type": "code",
   "execution_count": null,
   "id": "19a882cb",
   "metadata": {},
   "outputs": [],
   "source": []
  }
 ],
 "metadata": {
  "kernelspec": {
   "display_name": "langgraph-learning",
   "language": "python",
   "name": "python3"
  },
  "language_info": {
   "codemirror_mode": {
    "name": "ipython",
    "version": 3
   },
   "file_extension": ".py",
   "mimetype": "text/x-python",
   "name": "python",
   "nbconvert_exporter": "python",
   "pygments_lexer": "ipython3",
   "version": "3.13.1"
  }
 },
 "nbformat": 4,
 "nbformat_minor": 5
}
